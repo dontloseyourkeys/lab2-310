{
 "cells": [
  {
   "cell_type": "markdown",
   "metadata": {},
   "source": [
    "# Lab 2\n",
    "#### (i finally got it working)"
   ]
  },
  {
   "cell_type": "code",
   "execution_count": 13,
   "metadata": {},
   "outputs": [
    {
     "name": "stdout",
     "output_type": "stream",
     "text": [
      "['YEAR|FIRES|TOTAL_HA|MAX_SIZE_HA|FIRES >200ha|TOTAL_HA (>200ha)']\n",
      "Index(['year,month,decimal date,average,deseasonalized,ndays,sdev,unc'], dtype='object')\n"
     ]
    },
    {
     "name": "stderr",
     "output_type": "stream",
     "text": [
      "c:\\Users\\asiab\\anaconda3\\lib\\site-packages\\IPython\\core\\interactiveshell.py:3369: FutureWarning: In a future version of pandas all arguments of read_csv except for the argument 'filepath_or_buffer' will be keyword-only.\n",
      "  exec(code_obj, self.user_global_ns, self.user_ns)\n",
      "C:\\Users\\asiab\\AppData\\Local\\Temp\\ipykernel_33908\\4080921679.py:17: ParserWarning: Falling back to the 'python' engine because the 'c' engine does not support regex separators (separators > 1 char and different from '\\s+' are interpreted as regex); you can avoid this warning by specifying engine='python'.\n",
      "  wfdata = pd.read_csv(wfpath, fixdata, skiprows = 5,)\n",
      "c:\\Users\\asiab\\anaconda3\\lib\\site-packages\\IPython\\core\\interactiveshell.py:3369: FutureWarning: In a future version of pandas all arguments of read_csv except for the argument 'filepath_or_buffer' will be keyword-only.\n",
      "  exec(code_obj, self.user_global_ns, self.user_ns)\n",
      "C:\\Users\\asiab\\AppData\\Local\\Temp\\ipykernel_33908\\4080921679.py:22: ParserWarning: Falling back to the 'python' engine because the 'c' engine does not support regex separators (separators > 1 char and different from '\\s+' are interpreted as regex); you can avoid this warning by specifying engine='python'.\n",
      "  co2data = pd.read_csv(co2path, fixdata, skiprows = 39)\n"
     ]
    },
    {
     "ename": "NameError",
     "evalue": "name 'YEAR' is not defined",
     "output_type": "error",
     "traceback": [
      "\u001b[1;31m---------------------------------------------------------------------------\u001b[0m",
      "\u001b[1;31mNameError\u001b[0m                                 Traceback (most recent call last)",
      "\u001b[1;32mc:\\Users\\asiab\\OneDrive\\Documents\\University\\310\\lab2-310\\AsiaLab2.ipynb Cell 2\u001b[0m line \u001b[0;36m<cell line: 36>\u001b[1;34m()\u001b[0m\n\u001b[0;32m     <a href='vscode-notebook-cell:/c%3A/Users/asiab/OneDrive/Documents/University/310/lab2-310/AsiaLab2.ipynb#W1sZmlsZQ%3D%3D?line=31'>32</a>\u001b[0m \u001b[39mprint\u001b[39m(co2data\u001b[39m.\u001b[39mcolumns)\n\u001b[0;32m     <a href='vscode-notebook-cell:/c%3A/Users/asiab/OneDrive/Documents/University/310/lab2-310/AsiaLab2.ipynb#W1sZmlsZQ%3D%3D?line=33'>34</a>\u001b[0m \u001b[39m#print(type(wfdata.loc[:,YEAR]))\u001b[39;00m\n\u001b[1;32m---> <a href='vscode-notebook-cell:/c%3A/Users/asiab/OneDrive/Documents/University/310/lab2-310/AsiaLab2.ipynb#W1sZmlsZQ%3D%3D?line=35'>36</a>\u001b[0m \u001b[39mprint\u001b[39m(wfdata[YEAR])\n",
      "\u001b[1;31mNameError\u001b[0m: name 'YEAR' is not defined"
     ]
    }
   ],
   "source": [
    "\"\"\"\\n chatgpt was asked \"demonstrate how to load data in python using pandas\"\\n \"\"\"\n",
    "#importing necessary modules \n",
    "import numpy as np\n",
    "import pandas as pd\n",
    "import matplotlib.pyplot as plt\n",
    "\n",
    "#linking files from directory\n",
    "wfpath = 'Data/NFDB_point_stats.csv'\n",
    "co2path = 'Data/co2_mm_mlo.csv'\n",
    "\n",
    "#cleaning up data into a dataframe \"sep=',',\n",
    "fixdata = \"comment='#'\"\n",
    "\n",
    "\n",
    "#with open(wfpath, 'r') as\n",
    "\n",
    "wfdata = pd.read_csv(wfpath, fixdata, skiprows = 5,)\n",
    "wfdata.columns = wfdata.columns.str.replace(', ', '|')\n",
    "\n",
    "#fires = wfdata['FIRES'].str.replace(\",\",\"\").astype(float)\n",
    "\n",
    "co2data = pd.read_csv(co2path, fixdata, skiprows = 39)\n",
    "\n",
    "#print(wfdata.head(10))\n",
    "#print(co2data.head(10))\n",
    "\n",
    "\n",
    "\n",
    "#co2data.plot.line(\"month\",\"average\")\n",
    "\n",
    "print(wfdata.columns.values)\n",
    "print(co2data.columns)\n",
    "\n",
    "#print(type(wfdata.loc[:,YEAR]))\n",
    "\n",
    "print(wfdata[YEAR])\n",
    "\n",
    "#plt.plot(wfdata[YEAR], wfdata[FIRES])\n",
    "#plt.title(\"example plot\")\n",
    "#plt.show"
   ]
  },
  {
   "cell_type": "code",
   "execution_count": null,
   "metadata": {},
   "outputs": [],
   "source": []
  }
 ],
 "metadata": {
  "kernelspec": {
   "display_name": "Python 3",
   "language": "python",
   "name": "python3"
  },
  "language_info": {
   "codemirror_mode": {
    "name": "ipython",
    "version": 3
   },
   "file_extension": ".py",
   "mimetype": "text/x-python",
   "name": "python",
   "nbconvert_exporter": "python",
   "pygments_lexer": "ipython3",
   "version": "3.9.12"
  },
  "orig_nbformat": 4
 },
 "nbformat": 4,
 "nbformat_minor": 2
}
