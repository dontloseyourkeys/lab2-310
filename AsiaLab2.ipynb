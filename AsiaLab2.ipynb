{
 "cells": [
  {
   "cell_type": "markdown",
   "metadata": {},
   "source": [
    "# Lab 2\n",
    "#### (i finally got it working)"
   ]
  },
  {
   "cell_type": "code",
   "execution_count": 32,
   "metadata": {},
   "outputs": [
    {
     "name": "stdout",
     "output_type": "stream",
     "text": [
      "  YEAR,FIRES,TOTAL_HA,MAX_SIZE_HA,FIRES >200ha,TOTAL_HA (>200ha)\n",
      "0  2021,\"6,709\",\"4,078,897\",\"271,701\",596,\"4,038,...            \n",
      "1       2020,\"4,001\",\"218,232\",\"50,892\",80,\"206,153\"            \n",
      "2  2019,\"4,062\",\"1,786,214\",\"350,135\",192,\"1,765,...            \n",
      "3  2018,\"7,111\",\"2,328,851\",\"156,775\",428,\"2,290,...            \n",
      "4  2017,\"5,654\",\"3,589,423\",\"521,012\",468,\"3,557,...            \n",
      "5  2016,\"5,259\",\"1,319,573\",\"485,124\",204,\"1,296,...            \n",
      "6  2015,\"7,029\",\"3,908,377\",\"245,237\",546,\"3,873,...            \n",
      "7  2014,\"5,016\",\"4,545,655\",\"632,984\",341,\"4,521,...            \n",
      "8  2013,\"6,246\",\"4,268,421\",\"501,689\",374,\"4,242,...            \n",
      "9  2012,\"7,910\",\"1,811,679\",\"134,603\",420,\"1,781,...            \n"
     ]
    },
    {
     "name": "stderr",
     "output_type": "stream",
     "text": [
      "c:\\Users\\asiab\\anaconda3\\lib\\site-packages\\IPython\\core\\interactiveshell.py:3369: FutureWarning: In a future version of pandas all arguments of read_csv except for the argument 'filepath_or_buffer' will be keyword-only.\n",
      "  exec(code_obj, self.user_global_ns, self.user_ns)\n",
      "C:\\Users\\asiab\\AppData\\Local\\Temp\\ipykernel_27900\\1975539521.py:13: ParserWarning: Falling back to the 'python' engine because the 'c' engine does not support regex separators (separators > 1 char and different from '\\s+' are interpreted as regex); you can avoid this warning by specifying engine='python'.\n",
      "  wfdata = pd.read_csv(wfpath, fixdata, skiprows = 5)\n",
      "c:\\Users\\asiab\\anaconda3\\lib\\site-packages\\IPython\\core\\interactiveshell.py:3369: FutureWarning: In a future version of pandas all arguments of read_csv except for the argument 'filepath_or_buffer' will be keyword-only.\n",
      "  exec(code_obj, self.user_global_ns, self.user_ns)\n",
      "C:\\Users\\asiab\\AppData\\Local\\Temp\\ipykernel_27900\\1975539521.py:16: ParserWarning: Falling back to the 'python' engine because the 'c' engine does not support regex separators (separators > 1 char and different from '\\s+' are interpreted as regex); you can avoid this warning by specifying engine='python'.\n",
      "  co2data = pd.read_csv(co2path, fixdata, skiprows = 39)\n"
     ]
    }
   ],
   "source": [
    "\"\"\"\\n chatgpt was asked \"demonstrate how to load data in python using pandas\"\\n \"\"\"\n",
    "\n",
    "import numpy as np\n",
    "import pandas as pd\n",
    "import matplotlib as plt\n",
    "\n",
    "\n",
    "wfpath = 'Data/NFDB_point_stats.csv'\n",
    "co2path = 'Data/co2_mm_mlo.csv'\n",
    "\n",
    "fixdata = \"sep=',',comment='#'\"\n",
    "\n",
    "wfdata = pd.read_csv(wfpath, fixdata, skiprows = 5)\n",
    "#fires = wfdata['FIRES'].str.replace(\",\",\"\").astype(float)\n",
    "\n",
    "co2data = pd.read_csv(co2path, fixdata, skiprows = 39)\n",
    "\n",
    "print(wfdata.head(10))\n",
    "#print(co2data.head(10))\n",
    "\n",
    "#print(wfdata['FIRES'])\n",
    "\n",
    "\n"
   ]
  },
  {
   "cell_type": "code",
   "execution_count": null,
   "metadata": {},
   "outputs": [],
   "source": []
  }
 ],
 "metadata": {
  "kernelspec": {
   "display_name": "Python 3",
   "language": "python",
   "name": "python3"
  },
  "language_info": {
   "codemirror_mode": {
    "name": "ipython",
    "version": 3
   },
   "file_extension": ".py",
   "mimetype": "text/x-python",
   "name": "python",
   "nbconvert_exporter": "python",
   "pygments_lexer": "ipython3",
   "version": "3.9.12"
  },
  "orig_nbformat": 4
 },
 "nbformat": 4,
 "nbformat_minor": 2
}
